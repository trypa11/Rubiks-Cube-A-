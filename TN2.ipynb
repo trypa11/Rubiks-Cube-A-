{
  "cells": [
    {
      "cell_type": "markdown",
      "metadata": {
        "id": "view-in-github",
        "colab_type": "text"
      },
      "source": [
        "<a href=\"https://colab.research.google.com/github/trypa11/Rubiks-Cube-A-/blob/main/TN2.ipynb\" target=\"_parent\"><img src=\"https://colab.research.google.com/assets/colab-badge.svg\" alt=\"Open In Colab\"/></a>"
      ]
    },
    {
      "cell_type": "markdown",
      "metadata": {
        "id": "tKHEO_t59k4V"
      },
      "source": []
    },
    {
      "cell_type": "code",
      "execution_count": null,
      "metadata": {
        "id": "pL4tr3Aa1oX7"
      },
      "outputs": [],
      "source": [
        "import pandas as pd\n",
        "import numpy as np\n",
        "import matplotlib.pyplot as plt\n",
        "import tensorflow as tf"
      ]
    },
    {
      "cell_type": "markdown",
      "metadata": {
        "id": "KaZe7fFMTsJf"
      },
      "source": [
        "Data"
      ]
    },
    {
      "cell_type": "code",
      "execution_count": null,
      "metadata": {
        "id": "zlT-U4c8VJoR",
        "colab": {
          "base_uri": "https://localhost:8080/"
        },
        "outputId": "126a8312-0857-423a-cb00-d54dbf56f2f4"
      },
      "outputs": [
        {
          "output_type": "stream",
          "name": "stdout",
          "text": [
            "Downloading data from https://storage.googleapis.com/tensorflow/tf-keras-datasets/imdb.npz\n",
            "17464789/17464789 [==============================] - 0s 0us/step\n",
            "Downloading data from https://storage.googleapis.com/tensorflow/tf-keras-datasets/imdb_word_index.json\n",
            "1641221/1641221 [==============================] - 0s 0us/step\n"
          ]
        }
      ],
      "source": [
        "(x_train, y_train), (x_test, y_test) = tf.keras.datasets.imdb.load_data(num_words=4000)\n",
        "\n",
        "word_index = tf.keras.datasets.imdb.get_word_index()\n",
        "index2word = dict((i + 3, word) for (word, i) in word_index.items())\n",
        "index2word[0] = '[pad]'\n",
        "index2word[1] = '[bos]'\n",
        "index2word[2] = '[oov]'\n",
        "x_train = np.array([' '.join([index2word[idx] for idx in text]) for text in x_train])\n",
        "x_test = np.array([' '.join([index2word[idx] for idx in text]) for text in x_test])"
      ]
    },
    {
      "cell_type": "code",
      "execution_count": null,
      "metadata": {
        "colab": {
          "base_uri": "https://localhost:8080/"
        },
        "id": "mH1_YpsTbD6d",
        "outputId": "d51b22b7-bb7c-46c9-f022-067b54f0971e"
      },
      "outputs": [
        {
          "output_type": "execute_result",
          "data": {
            "text/plain": [
              "88584"
            ]
          },
          "metadata": {},
          "execution_count": 3
        }
      ],
      "source": [
        "len(word_index)"
      ]
    },
    {
      "cell_type": "code",
      "execution_count": null,
      "metadata": {
        "colab": {
          "base_uri": "https://localhost:8080/",
          "height": 123
        },
        "id": "hkHfJMmrbEDO",
        "outputId": "856307e4-9e97-4ef9-ba09-30c8ac55ce87"
      },
      "outputs": [
        {
          "output_type": "execute_result",
          "data": {
            "text/plain": [
              "\"[bos] this film was just brilliant casting location scenery story direction [oov] really suited the part they played and you could just imagine being there robert [oov] is an amazing actor and now the same being director [oov] father came from the same [oov] island as myself so i loved the fact there was a real connection with this film the witty [oov] throughout the film were great it was just brilliant so much that i bought the film as soon as it was released for [oov] and would recommend it to everyone to watch and the fly [oov] was amazing really cried at the end it was so sad and you know what they say if you cry at a film it must have been good and this definitely was also [oov] to the two little [oov] that played the [oov] of norman and paul they were just brilliant children are often left out of the [oov] list i think because the stars that play them all grown up are such a big [oov] for the whole film but these children are amazing and should be [oov] for what they have done don't you think the whole story was so lovely because it was true and was [oov] life after all that was [oov] with us all\""
            ],
            "application/vnd.google.colaboratory.intrinsic+json": {
              "type": "string"
            }
          },
          "metadata": {},
          "execution_count": 4
        }
      ],
      "source": [
        "x_train[0]"
      ]
    },
    {
      "cell_type": "code",
      "execution_count": null,
      "metadata": {
        "colab": {
          "base_uri": "https://localhost:8080/"
        },
        "id": "HykRqGtSg9uH",
        "outputId": "40f1ba1c-76a4-4dd2-b225-a649dd789c7f"
      },
      "outputs": [
        {
          "output_type": "stream",
          "name": "stdout",
          "text": [
            "3998\n"
          ]
        }
      ],
      "source": [
        "vocabulary = list()\n",
        "for text in x_train:\n",
        "  tokens = text.split()\n",
        "  vocabulary.extend(tokens)\n",
        "\n",
        "vocabulary = set(vocabulary)\n",
        "print(len(vocabulary))"
      ]
    },
    {
      "cell_type": "code",
      "execution_count": null,
      "metadata": {
        "colab": {
          "base_uri": "https://localhost:8080/"
        },
        "id": "hGRy9OHDg-mu",
        "outputId": "e2bdd1c3-f02a-4c34-9a90-ec51104da957"
      },
      "outputs": [
        {
          "output_type": "stream",
          "name": "stderr",
          "text": [
            "100%|██████████| 25000/25000 [07:07<00:00, 58.48it/s]\n",
            "100%|██████████| 25000/25000 [06:59<00:00, 59.66it/s]\n"
          ]
        }
      ],
      "source": [
        "from tqdm import tqdm\n",
        "\n",
        "x_train_binary = list()\n",
        "x_test_binary = list()\n",
        "\n",
        "for text in tqdm(x_train):\n",
        "  tokens = text.split()\n",
        "  binary_vector = list()\n",
        "  for vocab_token in vocabulary:\n",
        "    if vocab_token in tokens:\n",
        "      binary_vector.append(1)\n",
        "    else:\n",
        "      binary_vector.append(0)\n",
        "  x_train_binary.append(binary_vector)\n",
        "\n",
        "x_train_binary = np.array(x_train_binary)\n",
        "\n",
        "for text in tqdm(x_test):\n",
        "  tokens = text.split()\n",
        "  binary_vector = list()\n",
        "  for vocab_token in vocabulary:\n",
        "    if vocab_token in tokens:\n",
        "      binary_vector.append(1)\n",
        "    else:\n",
        "      binary_vector.append(0)\n",
        "  x_test_binary.append(binary_vector)\n",
        "\n",
        "x_test_binary = np.array(x_test_binary)"
      ]
    },
    {
      "cell_type": "markdown",
      "metadata": {
        "id": "F6SCFb_sbP7Q"
      },
      "source": [
        "##Class BernoulliNaiveBayes"
      ]
    },
    {
      "cell_type": "code",
      "execution_count": null,
      "metadata": {
        "id": "c9KHUwMudsCq"
      },
      "outputs": [],
      "source": [
        "class BernoulliNaiveBayes:\n",
        "    def __init__(self):\n",
        "        self.classes = None\n",
        "        self.likelihoods = None\n",
        "        self.p_of_class = None\n",
        "\n",
        "    def fit(self, X, y):\n",
        "        n_reviews, n_words = X.shape\n",
        "        self.classes = np.unique(y) #classes=[0(neg),1(pos)]\n",
        "        n_classes = len(self.classes)\n",
        "\n",
        "        self.p_of_class = np.zeros(n_classes)\n",
        "        self.likelihoods = np.zeros((n_classes, n_words))\n",
        "\n",
        "        for c in self.classes:\n",
        "            X_c = X[y == c]\n",
        "            self.p_of_class[c] = X_c.shape[0] / float(n_reviews) #p_of_class=[P(neg)=1/2,P(pos)=1/2]\n",
        "            for f in range(n_words):\n",
        "                word_count = X_c[:, f].sum() #Syxnothta kathe word se ola ta reviews ana kathgoria neg/pos\n",
        "                self.likelihoods[c, f] = (word_count + 1) / (X_c.shape[0] + 2)#Pithanothtes kathe word gia neg kai pos xrhshmopoiwntas ektimhtria Laplace\n",
        "\n",
        "    def predict(self, X):\n",
        "        n_reviews, _ = X.shape\n",
        "        y_pred = np.zeros(n_reviews)\n",
        "        for i in range(n_reviews):\n",
        "            finals = []\n",
        "            for c in self.classes:\n",
        "                plog= np.log(self.p_of_class[c])#log(P(c))\n",
        "                likelihood = np.sum(np.log(self.likelihoods[c, X[i] == 1])) # Sum pithanothtwn ton words tou review\n",
        "                final = plog + likelihood\n",
        "                finals.append(final)\n",
        "            y_pred[i] = self.classes[np.argmax(finals)]\n",
        "        return y_pred"
      ]
    },
    {
      "cell_type": "code",
      "execution_count": null,
      "metadata": {
        "id": "eh2nYd22d2nZ",
        "colab": {
          "base_uri": "https://localhost:8080/"
        },
        "outputId": "41bbfd5c-2008-485a-d434-c37029f2bd0f"
      },
      "outputs": [
        {
          "output_type": "stream",
          "name": "stdout",
          "text": [
            "              precision    recall  f1-score   support\n",
            "\n",
            "           0       0.79      0.90      0.84     12500\n",
            "           1       0.88      0.76      0.82     12500\n",
            "\n",
            "    accuracy                           0.83     25000\n",
            "   macro avg       0.84      0.83      0.83     25000\n",
            "weighted avg       0.84      0.83      0.83     25000\n",
            "\n"
          ]
        }
      ],
      "source": [
        "b = BernoulliNaiveBayes()\n",
        "b.fit(x_train_binary, y_train)\n",
        "from sklearn.metrics import classification_report\n",
        "print(classification_report(y_test, b.predict(x_test_binary)))\n"
      ]
    },
    {
      "cell_type": "markdown",
      "metadata": {
        "id": "y0ts8C47HKCx"
      },
      "source": [
        "Dev var"
      ]
    },
    {
      "cell_type": "code",
      "execution_count": null,
      "metadata": {
        "id": "J4iE7cG--TVa"
      },
      "outputs": [],
      "source": [
        "from sklearn.model_selection import train_test_split\n",
        "# split rest of the train data into train and dev\n",
        "x_train_binary, x_dev_binary, y_train, y_dev = train_test_split(x_train_binary, y_train,\n",
        "                                                                test_size=0.3)"
      ]
    },
    {
      "cell_type": "markdown",
      "metadata": {
        "id": "TfFb_VjsHOWb"
      },
      "source": [
        "Diagram"
      ]
    },
    {
      "cell_type": "code",
      "execution_count": null,
      "metadata": {
        "id": "cRNRs1PXoSQy",
        "colab": {
          "base_uri": "https://localhost:8080/",
          "height": 604
        },
        "outputId": "4448b5b3-784f-4f88-c273-61970fa1e1a6"
      },
      "outputs": [
        {
          "output_type": "stream",
          "name": "stdout",
          "text": [
            "(3500, 3998)\n",
            "(3500,)\n",
            "(7000, 3998)\n",
            "(7000,)\n",
            "(10500, 3998)\n",
            "(10500,)\n",
            "(14000, 3998)\n",
            "(14000,)\n",
            "(17500, 3998)\n",
            "(17500,)\n"
          ]
        },
        {
          "output_type": "display_data",
          "data": {
            "text/plain": [
              "<Figure size 640x480 with 1 Axes>"
            ],
            "image/png": "[encoded data removed]"
          },
          "metadata": {}
        }
      ],
      "source": [
        "from sklearn.metrics import accuracy_score\n",
        "def custom_learning_curve(x_train, y_train,\n",
        "                          x_val, y_val, x_test, y_test,\n",
        "                          n_splits):\n",
        "\n",
        "  split_size = int(len(x_train) / n_splits)\n",
        "  x_splits = np.split(x_train, n_splits) # must be equal division\n",
        "  y_splits = np.split(y_train, n_splits)\n",
        "  train_accuracies = list()\n",
        "  val_accuracies = list()\n",
        "  test_accuracies = list()\n",
        "  curr_x = x_splits[0]\n",
        "  print(curr_x.shape)\n",
        "  curr_y = y_splits[0]\n",
        "  print(curr_y.shape)\n",
        "  b = BernoulliNaiveBayes()\n",
        "  b.fit(curr_x, curr_y)\n",
        "  train_accuracies.append(accuracy_score(curr_y,\n",
        "                                         b.predict(curr_x)))\n",
        "\n",
        "  val_accuracies.append(accuracy_score(y_val, b.predict(x_val)))\n",
        "  test_accuracies.append(accuracy_score(y_test, b.predict(x_test)))\n",
        "\n",
        "  for i in range(1, len(x_splits)):\n",
        "    b = BernoulliNaiveBayes()\n",
        "    curr_x = np.concatenate((curr_x, x_splits[i]), axis=0)\n",
        "    print(curr_x.shape)\n",
        "    curr_y = np.concatenate((curr_y, y_splits[i]), axis=0)\n",
        "    print(curr_y.shape)\n",
        "    b.fit(curr_x, curr_y)\n",
        "\n",
        "    train_accuracies.append(accuracy_score(curr_y,\n",
        "                                           b.predict(curr_x)))\n",
        "\n",
        "    val_accuracies.append(accuracy_score(y_val, b.predict(x_val)))\n",
        "\n",
        "    test_accuracies.append(accuracy_score(y_test, b.predict(x_test)))\n",
        "\n",
        "  plt.plot(list(range(split_size, len(x_train) + split_size,\n",
        "                      split_size)), train_accuracies, 'o-', color=\"b\",\n",
        "             label=\"Training accuracy\")\n",
        "  plt.plot(list(range(split_size, len(x_train) + split_size,\n",
        "                      split_size)), val_accuracies, 'o-', color=\"green\",\n",
        "           label=\"Validation accuracy\")\n",
        "  plt.plot(list(range(split_size, len(x_train) + split_size,\n",
        "                      split_size)), test_accuracies, 'o-', color=\"red\",\n",
        "           label=\"Testing accuracy\")\n",
        "  plt.legend(loc=\"lower right\")\n",
        "  plt.show()\n",
        "\n",
        "custom_learning_curve(x_train=x_train_binary , y_train=y_train,\n",
        "                      x_val=x_dev_binary, y_val=y_dev, x_test=x_test_binary,\n",
        "                      y_test=y_test, n_splits=5)"
      ]
    },
    {
      "cell_type": "markdown",
      "source": [
        "## BernoulliNB from sklearn\n"
      ],
      "metadata": {
        "id": "i4DeDlJrAa9M"
      }
    },
    {
      "cell_type": "code",
      "source": [
        "from sklearn.naive_bayes import BernoulliNB\n",
        "\n",
        "nb = BernoulliNB()\n",
        "nb.fit(x_train_binary, y_train)\n",
        "\n",
        "\n",
        "print(classification_report(y_test, nb.predict(x_test_binary)))"
      ],
      "metadata": {
        "id": "o12jqkaTAaSd"
      },
      "execution_count": null,
      "outputs": []
    },
    {
      "cell_type": "markdown",
      "source": [
        "Curves"
      ],
      "metadata": {
        "id": "nn-TbhM-C_A1"
      }
    },
    {
      "cell_type": "code",
      "source": [
        "from sklearn.metrics import accuracy_score\n",
        "def custom_learning_curve(x_train, y_train,\n",
        "                          x_val, y_val, x_test, y_test,\n",
        "                          n_splits):\n",
        "\n",
        "  split_size = int(len(x_train) / n_splits)\n",
        "  x_splits = np.split(x_train, n_splits) # must be equal division\n",
        "  y_splits = np.split(y_train, n_splits)\n",
        "  train_accuracies = list()\n",
        "  val_accuracies = list()\n",
        "  test_accuracies = list()\n",
        "  curr_x = x_splits[0]\n",
        "  print(curr_x.shape)\n",
        "  curr_y = y_splits[0]\n",
        "  print(curr_y.shape)\n",
        "  nb = BernoulliNB()\n",
        "  nb.fit(curr_x, curr_y)\n",
        "  train_accuracies.append(accuracy_score(curr_y,\n",
        "                                         nb.predict(curr_x)))\n",
        "\n",
        "  val_accuracies.append(accuracy_score(y_val, nb.predict(x_val)))\n",
        "  test_accuracies.append(accuracy_score(y_test, nb.predict(x_test)))\n",
        "\n",
        "  for i in range(1, len(x_splits)):\n",
        "    nb = BernoulliNB()\n",
        "    curr_x = np.concatenate((curr_x, x_splits[i]), axis=0)\n",
        "    print(curr_x.shape)\n",
        "    curr_y = np.concatenate((curr_y, y_splits[i]), axis=0)\n",
        "    print(curr_y.shape)\n",
        "    nb.fit(curr_x, curr_y)\n",
        "\n",
        "    train_accuracies.append(accuracy_score(curr_y,\n",
        "                                           nb.predict(curr_x)))\n",
        "\n",
        "    val_accuracies.append(accuracy_score(y_val, nb.predict(x_val)))\n",
        "\n",
        "    test_accuracies.append(accuracy_score(y_test, nb.predict(x_test)))\n",
        "\n",
        "  plt.plot(list(range(split_size, len(x_train) + split_size,\n",
        "                      split_size)), train_accuracies, 'o-', color=\"b\",\n",
        "             label=\"Training accuracy\")\n",
        "  plt.plot(list(range(split_size, len(x_train) + split_size,\n",
        "                      split_size)), val_accuracies, 'o-', color=\"green\",\n",
        "           label=\"Validation accuracy\")\n",
        "  plt.plot(list(range(split_size, len(x_train) + split_size,\n",
        "                      split_size)), test_accuracies, 'o-', color=\"red\",\n",
        "           label=\"Testing accuracy\")\n",
        "  plt.legend(loc=\"lower right\")\n",
        "  plt.show()\n",
        "\n",
        "custom_learning_curve(x_train=x_train_binary , y_train=y_train,\n",
        "                      x_val=x_dev_binary, y_val=y_dev, x_test=x_test_binary,\n",
        "                      y_test=y_test, n_splits=5)"
      ],
      "metadata": {
        "id": "MhQ-Ny4xB9mk"
      },
      "execution_count": null,
      "outputs": []
    },
    {
      "cell_type": "markdown",
      "source": [
        "##Class Logistic Regression Stochastic Gradient Ascent with λ Regularization"
      ],
      "metadata": {
        "id": "AzjzSZVIqrl2"
      }
    },
    {
      "cell_type": "code",
      "execution_count": null,
      "metadata": {
        "id": "qhcZFRNrZsCJ"
      },
      "outputs": [],
      "source": [
        "class LogisticRegressionSGA:\n",
        "    def __init__(self, h=0.1, max_iter=200,lamb=0.1):\n",
        "        self.h = h\n",
        "        self.max_iter = max_iter\n",
        "        self.lamb=lamb\n",
        "\n",
        "    def sigmoid(self, z):\n",
        "        return 1 / (1 + np.exp(-z))\n",
        "\n",
        "    def fit(self, X, y):\n",
        "        self.w = np.zeros(X.shape[1])#vector w\n",
        "        for i in range(self.max_iter):\n",
        "            z = np.dot(X, self.w)#w*x\n",
        "            y_pred = self.sigmoid(z)#P(c|x+) with sigmoid\n",
        "            gradient = np.mean((y-y_pred)*X.T, axis=1)+(self.lamb * self.w *2)#calculate ∇l(w)+ regularization L1\n",
        "            self.w += self.h * gradient #η*∇l(w) and we add(+) w because is an Ascent\n",
        "\n",
        "    def predict(self, X):\n",
        "        predictions = []\n",
        "        for x in X:\n",
        "            y_pred = self.sigmoid(np.dot(x, self.w))\n",
        "            predictions.append(1 if y_pred >= 0.5 else 0)\n",
        "        return predictions"
      ]
    },
    {
      "cell_type": "markdown",
      "source": [
        "Curve"
      ],
      "metadata": {
        "id": "CCVQ6Y8w7DMc"
      }
    },
    {
      "cell_type": "code",
      "execution_count": null,
      "metadata": {
        "id": "g55ifOXVcO7y"
      },
      "outputs": [],
      "source": [
        "from sklearn.metrics import accuracy_score\n",
        "def custom_learning_curve(x_train, y_train,\n",
        "                          x_val, y_val, x_test, y_test,\n",
        "                          n_splits):\n",
        "\n",
        "  split_size = int(len(x_train) / n_splits)\n",
        "  x_splits = np.split(x_train, n_splits) # must be equal division\n",
        "  y_splits = np.split(y_train, n_splits)\n",
        "  train_accuracies = list()\n",
        "  val_accuracies = list()\n",
        "  test_accuracies = list()\n",
        "  curr_x = x_splits[0]\n",
        "  print(curr_x.shape)\n",
        "  curr_y = y_splits[0]\n",
        "  print(curr_y.shape)\n",
        "  lsga =  LogisticRegressionSGA()\n",
        "  lsga.fit(curr_x, curr_y)\n",
        "  train_accuracies.append(accuracy_score(curr_y,\n",
        "                                         lsga.predict(curr_x)))\n",
        "\n",
        "  val_accuracies.append(accuracy_score(y_val, lsga.predict(x_val)))\n",
        "  test_accuracies.append(accuracy_score(y_test, lsga.predict(x_test)))\n",
        "\n",
        "  for i in range(1, len(x_splits)):\n",
        "    lsga =  LogisticRegressionSGA()\n",
        "    curr_x = np.concatenate((curr_x, x_splits[i]), axis=0)\n",
        "    print(curr_x.shape)\n",
        "    curr_y = np.concatenate((curr_y, y_splits[i]), axis=0)\n",
        "    print(curr_y.shape)\n",
        "    lsga.fit(curr_x, curr_y)\n",
        "\n",
        "    train_accuracies.append(accuracy_score(curr_y,\n",
        "                                           lsga.predict(curr_x)))\n",
        "\n",
        "    val_accuracies.append(accuracy_score(y_val, lsga.predict(x_val)))\n",
        "\n",
        "    test_accuracies.append(accuracy_score(y_test, lsga.predict(x_test)))\n",
        "\n",
        "  plt.plot(list(range(split_size, len(x_train) + split_size,\n",
        "                      split_size)), train_accuracies, 'o-', color=\"b\",\n",
        "             label=\"Training accuracy\")\n",
        "  plt.plot(list(range(split_size, len(x_train) + split_size,\n",
        "                      split_size)), val_accuracies, 'o-', color=\"green\",\n",
        "           label=\"Validation accuracy\")\n",
        "  plt.plot(list(range(split_size, len(x_train) + split_size,\n",
        "                      split_size)), test_accuracies, 'o-', color=\"red\",\n",
        "           label=\"Testing accuracy\")\n",
        "  plt.legend(loc=\"lower right\")\n",
        "  plt.show()\n",
        "\n",
        "custom_learning_curve(x_train=x_train_binary , y_train=y_train,\n",
        "                      x_val=x_dev_binary, y_val=y_dev, x_test=x_test_binary,\n",
        "                      y_test=y_test, n_splits=5)"
      ]
    },
    {
      "cell_type": "markdown",
      "source": [
        "Metrics"
      ],
      "metadata": {
        "id": "rHk9-A8p7Jms"
      }
    },
    {
      "cell_type": "code",
      "execution_count": null,
      "metadata": {
        "id": "h2c27HTaaMNs"
      },
      "outputs": [],
      "source": [
        "lsga = LogisticRegressionSGA()\n",
        "lsga.fit(x_train_binary, y_train)\n",
        "from sklearn.metrics import classification_report\n",
        "print(classification_report(y_test, lsga.predict(x_test_binary)))"
      ]
    },
    {
      "cell_type": "markdown",
      "source": [
        "##Logistic regression Sklearn"
      ],
      "metadata": {
        "id": "yNDEni63wGfQ"
      }
    },
    {
      "cell_type": "code",
      "source": [
        "from sklearn.linear_model import LogisticRegression\n",
        "\n",
        "log = LogisticRegression(solver='saga',max_iter=200)\n",
        "log.fit(x_train_binary, y_train)\n",
        "\n",
        "print(classification_report(y_test, log.predict(x_test_binary)))"
      ],
      "metadata": {
        "id": "r-8igRI-wFZV"
      },
      "execution_count": null,
      "outputs": []
    },
    {
      "cell_type": "code",
      "execution_count": null,
      "metadata": {
        "id": "hHMix-OSx1zz"
      },
      "outputs": [],
      "source": [
        "from sklearn.metrics import accuracy_score\n",
        "def custom_learning_curve(x_train, y_train,\n",
        "                          x_val, y_val, x_test, y_test,\n",
        "                          n_splits):\n",
        "\n",
        "  split_size = int(len(x_train) / n_splits)\n",
        "  x_splits = np.split(x_train, n_splits) # must be equal division\n",
        "  y_splits = np.split(y_train, n_splits)\n",
        "  train_accuracies = list()\n",
        "  val_accuracies = list()\n",
        "  test_accuracies = list()\n",
        "  curr_x = x_splits[0]\n",
        "  print(curr_x.shape)\n",
        "  curr_y = y_splits[0]\n",
        "  print(curr_y.shape)\n",
        "  log = LogisticRegression(solver='saga',max_iter=200)\n",
        "  log.fit(curr_x, curr_y)\n",
        "  train_accuracies.append(accuracy_score(curr_y,\n",
        "                                         log.predict(curr_x)))\n",
        "\n",
        "  val_accuracies.append(accuracy_score(y_val, log.predict(x_val)))\n",
        "  test_accuracies.append(accuracy_score(y_test, log.predict(x_test)))\n",
        "\n",
        "  for i in range(1, len(x_splits)):\n",
        "    log = LogisticRegression(solver='saga',max_iter=200)\n",
        "    curr_x = np.concatenate((curr_x, x_splits[i]), axis=0)\n",
        "    print(curr_x.shape)\n",
        "    curr_y = np.concatenate((curr_y, y_splits[i]), axis=0)\n",
        "    print(curr_y.shape)\n",
        "    log.fit(curr_x, curr_y)\n",
        "\n",
        "    train_accuracies.append(accuracy_score(curr_y,\n",
        "                                           log.predict(curr_x)))\n",
        "\n",
        "    val_accuracies.append(accuracy_score(y_val, log.predict(x_val)))\n",
        "\n",
        "    test_accuracies.append(accuracy_score(y_test, log.predict(x_test)))\n",
        "\n",
        "  plt.plot(list(range(split_size, len(x_train) + split_size,\n",
        "                      split_size)), train_accuracies, 'o-', color=\"b\",\n",
        "             label=\"Training accuracy\")\n",
        "  plt.plot(list(range(split_size, len(x_train) + split_size,\n",
        "                      split_size)), val_accuracies, 'o-', color=\"green\",\n",
        "           label=\"Validation accuracy\")\n",
        "  plt.plot(list(range(split_size, len(x_train) + split_size,\n",
        "                      split_size)), test_accuracies, 'o-', color=\"red\",\n",
        "           label=\"Testing accuracy\")\n",
        "  plt.legend(loc=\"lower right\")\n",
        "  plt.show()\n",
        "\n",
        "custom_learning_curve(x_train=x_train_binary , y_train=y_train,\n",
        "                      x_val=x_dev_binary, y_val=y_dev, x_test=x_test_binary,\n",
        "                      y_test=y_test, n_splits=5)"
      ]
    },
    {
      "cell_type": "markdown",
      "source": [
        "## Part C"
      ],
      "metadata": {
        "id": "aVY3xfTJE8of"
      }
    },
    {
      "cell_type": "code",
      "source": [
        "from tensorflow.keras.utils import plot_model\n",
        "from IPython.display import Image\n",
        "\n",
        "imdb_mlp = tf.keras.models.Sequential([\n",
        "      tf.keras.layers.Input(shape=(3998,)),\n",
        "      tf.keras.layers.Dense(units=256, activation='relu'),\n",
        "      tf.keras.layers.Dropout(rate=0.2),\n",
        "      tf.keras.layers.Dense(units=128, activation='relu'),\n",
        "      tf.keras.layers.Dense(units=64, activation='relu'),\n",
        "      tf.keras.layers.Dropout(rate=0.5),\n",
        "      tf.keras.layers.Dense(units=1, activation='sigmoid')\n",
        "])\n",
        "\n",
        "plot_model(imdb_mlp, to_file='model.png', show_shapes=True)\n",
        "Image('model.png')"
      ],
      "metadata": {
        "id": "VryM0qsoVaar"
      },
      "execution_count": null,
      "outputs": []
    },
    {
      "cell_type": "code",
      "source": [
        "imdb_mlp.compile(loss=tf.keras.losses.BinaryCrossentropy(),\n",
        "                  optimizer=tf.keras.optimizers.SGD(),\n",
        "                  metrics=['binary_accuracy'])\n",
        "imdb_mlp.fit(x=x_train_binary, y=y_train,\n",
        "             epochs=10, verbose=1, batch_size=32)"
      ],
      "metadata": {
        "id": "buREreIcVbKy"
      },
      "execution_count": null,
      "outputs": []
    },
    {
      "cell_type": "code",
      "source": [
        "print(imdb_mlp.evaluate(x_test_binary, y_test))"
      ],
      "metadata": {
        "id": "j3-TNQ22VeSl"
      },
      "execution_count": null,
      "outputs": []
    },
    {
      "cell_type": "code",
      "source": [
        "imdb_mlp.compile(loss=tf.keras.losses.BinaryCrossentropy(),\n",
        "                  metrics=['accuracy'], optimizer=tf.keras.optimizers.SGD())\n"
      ],
      "metadata": {
        "id": "KFqkOIzSViRI"
      },
      "execution_count": null,
      "outputs": []
    },
    {
      "cell_type": "code",
      "source": [
        "mlp_history = imdb_mlp.fit(x_train_binary, y_train, batch_size=32,\n",
        "                                  epochs=10, validation_split=0.2)"
      ],
      "metadata": {
        "id": "cfd3oulxVj-F"
      },
      "execution_count": null,
      "outputs": []
    },
    {
      "cell_type": "code",
      "source": [
        "def plot(his, kind):\n",
        "  train = his.history[kind]\n",
        "  val = his.history[\"val_\"+  kind]\n",
        "  epochs = range(1, len(train)+1)\n",
        "  plt.figure(figsize=(12,9))\n",
        "  plt.plot(epochs, train, 'b', label='Training ' + kind)\n",
        "  plt.plot(epochs, val, 'orange', label='Validation ' + kind)\n",
        "  plt.title('Training and validation ' + kind)\n",
        "  plt.xlabel('Epochs')\n",
        "  plt.ylabel(kind)\n",
        "  # x1, x2, y1, y2 = plt.axis()\n",
        "  # plt.axis((x1, x2, 0, 0.2))\n",
        "  plt.legend()\n",
        "  plt.show()"
      ],
      "metadata": {
        "id": "5W5wH5yDVllx"
      },
      "execution_count": null,
      "outputs": []
    },
    {
      "cell_type": "code",
      "source": [
        "plot(mlp_history, 'loss')"
      ],
      "metadata": {
        "id": "5YntfDRbXQNu",
        "outputId": "d105ae47-4b7d-4db9-a013-8e23814881e6",
        "colab": {
          "base_uri": "https://localhost:8080/",
          "height": 567
        }
      },
      "execution_count": null,
      "outputs": [
        {
          "output_type": "display_data",
          "data": {
            "text/plain": [
              "<Figure size 864x648 with 1 Axes>"
            ],
            "image/png": "[encoded data removed]"
          },
          "metadata": {
            "needs_background": "light"
          }
        }
      ]
    },
    {
      "cell_type": "code",
      "source": [
        "plot(mlp_history, 'accuracy')"
      ],
      "metadata": {
        "id": "BSCZw4ZCXVeM",
        "outputId": "fbc3b314-cfcc-4ebc-c12f-c46202f2497a",
        "colab": {
          "base_uri": "https://localhost:8080/",
          "height": 567
        }
      },
      "execution_count": null,
      "outputs": [
        {
          "output_type": "display_data",
          "data": {
            "text/plain": [
              "<Figure size 864x648 with 1 Axes>"
            ],
            "image/png": "[encoded data removed]"
          },
          "metadata": {
            "needs_background": "light"
          }
        }
      ]
    },
    {
      "cell_type": "code",
      "source": [
        "y_pred = imdb_mlp.predict(x_test_binary)\n",
        "\n",
        "\n",
        "print(classification_report(y_test, y_pred.round()))"
      ],
      "metadata": {
        "id": "BJyYMaI9XW6Y",
        "outputId": "f196a09d-da4c-4fa4-f857-7cd54fd68b0b",
        "colab": {
          "base_uri": "https://localhost:8080/"
        }
      },
      "execution_count": null,
      "outputs": [
        {
          "output_type": "stream",
          "name": "stdout",
          "text": [
            "782/782 [==============================] - 6s 8ms/step\n",
            "              precision    recall  f1-score   support\n",
            "\n",
            "           0       0.87      0.86      0.86     12500\n",
            "           1       0.86      0.87      0.86     12500\n",
            "\n",
            "    accuracy                           0.86     25000\n",
            "   macro avg       0.86      0.86      0.86     25000\n",
            "weighted avg       0.86      0.86      0.86     25000\n",
            "\n"
          ]
        }
      ]
    }
  ],
  "metadata": {
    "colab": {
      "provenance": [],
      "include_colab_link": true
    },
    "kernelspec": {
      "display_name": "Python 3",
      "name": "python3"
    },
    "language_info": {
      "name": "python"
    }
  },
  "nbformat": 4,
  "nbformat_minor": 0
}